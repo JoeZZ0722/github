{
 "cells": [
  {
   "cell_type": "code",
   "execution_count": 5,
   "metadata": {
    "collapsed": true
   },
   "outputs": [],
   "source": [
    "import pandas as pd\n",
    "import numpy as np\n",
    "from random import random\n",
    "from datetime import datetime"
   ]
  },
  {
   "cell_type": "code",
   "execution_count": 7,
   "metadata": {},
   "outputs": [
    {
     "name": "stdout",
     "output_type": "stream",
     "text": [
      "    BoolCol  attr\n10        1    22\n20        2    33\n30        0    22\n40        3    44\n50        4    66\n30\nInt64Index([30], dtype='int64')\n"
     ]
    }
   ],
   "source": [
    "df = pd.DataFrame({'BoolCol': [1, 2, 0, 3, 4],'attr': [22, 33, 22, 44, 66]},  \n",
    "       index=[10,20,30,40,50])  \n",
    "print(df)  \n",
    "a = df[(df.BoolCol==0)&(df.attr==22)].index.tolist()  \n",
    "print(a[0])\n",
    "# df[df['BoolCol'].isin([0])]\n",
    "# df.loc[df.index == 30]\n",
    "b = df.query('BoolCol == \"0\"')\n",
    "print b.index\n",
    "# df.index = 10"
   ]
  },
  {
   "cell_type": "code",
   "execution_count": null,
   "metadata": {},
   "outputs": [],
   "source": []
  }
 ],
 "metadata": {
  "kernelspec": {
   "display_name": "Python 2",
   "language": "python",
   "name": "python2"
  },
  "language_info": {
   "codemirror_mode": {
    "name": "ipython",
    "version": 2
   },
   "file_extension": ".py",
   "mimetype": "text/x-python",
   "name": "python",
   "nbconvert_exporter": "python",
   "pygments_lexer": "ipython2",
   "version": "2.7.6"
  }
 },
 "nbformat": 4,
 "nbformat_minor": 0
}
